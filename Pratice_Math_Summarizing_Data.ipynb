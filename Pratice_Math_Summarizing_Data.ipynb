{
  "nbformat": 4,
  "nbformat_minor": 0,
  "metadata": {
    "colab": {
      "name": "Pratice Math Summarizing Data.ipynb",
      "provenance": [],
      "mount_file_id": "1nAJ2NA_lsyrJShZFIZmnFdfAUgH7F3x3",
      "authorship_tag": "ABX9TyPqwPf57ddvf1/0oITa8sfA",
      "include_colab_link": true
    },
    "kernelspec": {
      "name": "python3",
      "display_name": "Python 3"
    },
    "language_info": {
      "name": "python"
    }
  },
  "cells": [
    {
      "cell_type": "markdown",
      "metadata": {
        "id": "view-in-github",
        "colab_type": "text"
      },
      "source": [
        "<a href=\"https://colab.research.google.com/github/raushan9jnv/Pratice-Math-Summarizing-Data/blob/main/Pratice_Math_Summarizing_Data.ipynb\" target=\"_parent\"><img src=\"https://colab.research.google.com/assets/colab-badge.svg\" alt=\"Open In Colab\"/></a>"
      ]
    },
    {
      "cell_type": "code",
      "metadata": {
        "id": "JLTE30LzF873"
      },
      "source": [
        "import numpy as np\n",
        "import pandas as pd\n",
        "import seaborn as sns\n",
        "import matplotlib.pyplot as plt"
      ],
      "execution_count": null,
      "outputs": []
    },
    {
      "cell_type": "markdown",
      "metadata": {
        "id": "tItT2StmGY5d"
      },
      "source": [
        "##Frequency Distribution"
      ]
    },
    {
      "cell_type": "code",
      "metadata": {
        "id": "MKwxRUdDGYb1"
      },
      "source": [
        "df = pd.DataFrame(data= {'number_of_children': [0,1,2,3,4,5,6,7,8],'number_of_families':[8,12,28,19,7,4,1,1,0]})"
      ],
      "execution_count": null,
      "outputs": []
    },
    {
      "cell_type": "code",
      "metadata": {
        "colab": {
          "base_uri": "https://localhost:8080/",
          "height": 326
        },
        "id": "9L2ae8SJGws1",
        "outputId": "d5c3a8dc-e8b1-44e9-9369-37fcb7f909c6"
      },
      "source": [
        "df"
      ],
      "execution_count": null,
      "outputs": [
        {
          "output_type": "execute_result",
          "data": {
            "text/html": [
              "<div>\n",
              "<style scoped>\n",
              "    .dataframe tbody tr th:only-of-type {\n",
              "        vertical-align: middle;\n",
              "    }\n",
              "\n",
              "    .dataframe tbody tr th {\n",
              "        vertical-align: top;\n",
              "    }\n",
              "\n",
              "    .dataframe thead th {\n",
              "        text-align: right;\n",
              "    }\n",
              "</style>\n",
              "<table border=\"1\" class=\"dataframe\">\n",
              "  <thead>\n",
              "    <tr style=\"text-align: right;\">\n",
              "      <th></th>\n",
              "      <th>number_of_children</th>\n",
              "      <th>number_of_families</th>\n",
              "    </tr>\n",
              "  </thead>\n",
              "  <tbody>\n",
              "    <tr>\n",
              "      <th>0</th>\n",
              "      <td>0</td>\n",
              "      <td>8</td>\n",
              "    </tr>\n",
              "    <tr>\n",
              "      <th>1</th>\n",
              "      <td>1</td>\n",
              "      <td>12</td>\n",
              "    </tr>\n",
              "    <tr>\n",
              "      <th>2</th>\n",
              "      <td>2</td>\n",
              "      <td>28</td>\n",
              "    </tr>\n",
              "    <tr>\n",
              "      <th>3</th>\n",
              "      <td>3</td>\n",
              "      <td>19</td>\n",
              "    </tr>\n",
              "    <tr>\n",
              "      <th>4</th>\n",
              "      <td>4</td>\n",
              "      <td>7</td>\n",
              "    </tr>\n",
              "    <tr>\n",
              "      <th>5</th>\n",
              "      <td>5</td>\n",
              "      <td>4</td>\n",
              "    </tr>\n",
              "    <tr>\n",
              "      <th>6</th>\n",
              "      <td>6</td>\n",
              "      <td>1</td>\n",
              "    </tr>\n",
              "    <tr>\n",
              "      <th>7</th>\n",
              "      <td>7</td>\n",
              "      <td>1</td>\n",
              "    </tr>\n",
              "    <tr>\n",
              "      <th>8</th>\n",
              "      <td>8</td>\n",
              "      <td>0</td>\n",
              "    </tr>\n",
              "  </tbody>\n",
              "</table>\n",
              "</div>"
            ],
            "text/plain": [
              "   number_of_children  number_of_families\n",
              "0                   0                   8\n",
              "1                   1                  12\n",
              "2                   2                  28\n",
              "3                   3                  19\n",
              "4                   4                   7\n",
              "5                   5                   4\n",
              "6                   6                   1\n",
              "7                   7                   1\n",
              "8                   8                   0"
            ]
          },
          "metadata": {
            "tags": []
          },
          "execution_count": 85
        }
      ]
    },
    {
      "cell_type": "code",
      "metadata": {
        "colab": {
          "base_uri": "https://localhost:8080/",
          "height": 285
        },
        "id": "u2r26c3hHVAv",
        "outputId": "15ec5dd9-d8c2-4f86-e4ca-e67b4391bba5"
      },
      "source": [
        "sns.set_theme(style=\"whitegrid\")\n",
        "ax = sns.barplot(x= \"number_of_children\",y= \"number_of_families\",data=df)"
      ],
      "execution_count": null,
      "outputs": [
        {
          "output_type": "display_data",
          "data": {
            "image/png": "[encoded data removed]",
            "text/plain": [
              "<Figure size 432x288 with 1 Axes>"
            ]
          },
          "metadata": {
            "tags": []
          }
        }
      ]
    },
    {
      "cell_type": "markdown",
      "metadata": {
        "id": "fgKnkri5ICQ7"
      },
      "source": [
        "Conclusions:\n",
        "1. most family have two children\n",
        "2. There are very less families with more than 5 children"
      ]
    },
    {
      "cell_type": "markdown",
      "metadata": {
        "id": "ZlrqK2oLIXc-"
      },
      "source": [
        "##Grouped Frequency Distribution"
      ]
    },
    {
      "cell_type": "code",
      "metadata": {
        "id": "JKoWQrOZIVJ4"
      },
      "source": [
        "clamis_df = pd.DataFrame(data={'group': ['50-100','100-150','150-200','200-250','250-300','300-350','350-400','400-450','450-500','500-550'],'frequency':[2,5,4,14,21,20,14,13,6,1]})"
      ],
      "execution_count": null,
      "outputs": []
    },
    {
      "cell_type": "code",
      "metadata": {
        "id": "Ax9rSMu0Jgkx",
        "colab": {
          "base_uri": "https://localhost:8080/",
          "height": 357
        },
        "outputId": "a885f0f0-001f-42fe-9e5c-2dd0960a90b0"
      },
      "source": [
        "clamis_df"
      ],
      "execution_count": null,
      "outputs": [
        {
          "output_type": "execute_result",
          "data": {
            "text/html": [
              "<div>\n",
              "<style scoped>\n",
              "    .dataframe tbody tr th:only-of-type {\n",
              "        vertical-align: middle;\n",
              "    }\n",
              "\n",
              "    .dataframe tbody tr th {\n",
              "        vertical-align: top;\n",
              "    }\n",
              "\n",
              "    .dataframe thead th {\n",
              "        text-align: right;\n",
              "    }\n",
              "</style>\n",
              "<table border=\"1\" class=\"dataframe\">\n",
              "  <thead>\n",
              "    <tr style=\"text-align: right;\">\n",
              "      <th></th>\n",
              "      <th>group</th>\n",
              "      <th>frequency</th>\n",
              "    </tr>\n",
              "  </thead>\n",
              "  <tbody>\n",
              "    <tr>\n",
              "      <th>0</th>\n",
              "      <td>50-100</td>\n",
              "      <td>2</td>\n",
              "    </tr>\n",
              "    <tr>\n",
              "      <th>1</th>\n",
              "      <td>100-150</td>\n",
              "      <td>5</td>\n",
              "    </tr>\n",
              "    <tr>\n",
              "      <th>2</th>\n",
              "      <td>150-200</td>\n",
              "      <td>4</td>\n",
              "    </tr>\n",
              "    <tr>\n",
              "      <th>3</th>\n",
              "      <td>200-250</td>\n",
              "      <td>14</td>\n",
              "    </tr>\n",
              "    <tr>\n",
              "      <th>4</th>\n",
              "      <td>250-300</td>\n",
              "      <td>21</td>\n",
              "    </tr>\n",
              "    <tr>\n",
              "      <th>5</th>\n",
              "      <td>300-350</td>\n",
              "      <td>20</td>\n",
              "    </tr>\n",
              "    <tr>\n",
              "      <th>6</th>\n",
              "      <td>350-400</td>\n",
              "      <td>14</td>\n",
              "    </tr>\n",
              "    <tr>\n",
              "      <th>7</th>\n",
              "      <td>400-450</td>\n",
              "      <td>13</td>\n",
              "    </tr>\n",
              "    <tr>\n",
              "      <th>8</th>\n",
              "      <td>450-500</td>\n",
              "      <td>6</td>\n",
              "    </tr>\n",
              "    <tr>\n",
              "      <th>9</th>\n",
              "      <td>500-550</td>\n",
              "      <td>1</td>\n",
              "    </tr>\n",
              "  </tbody>\n",
              "</table>\n",
              "</div>"
            ],
            "text/plain": [
              "     group  frequency\n",
              "0   50-100          2\n",
              "1  100-150          5\n",
              "2  150-200          4\n",
              "3  200-250         14\n",
              "4  250-300         21\n",
              "5  300-350         20\n",
              "6  350-400         14\n",
              "7  400-450         13\n",
              "8  450-500          6\n",
              "9  500-550          1"
            ]
          },
          "metadata": {
            "tags": []
          },
          "execution_count": 88
        }
      ]
    },
    {
      "cell_type": "code",
      "metadata": {
        "id": "wRb0g90kJkbm",
        "colab": {
          "base_uri": "https://localhost:8080/",
          "height": 295
        },
        "outputId": "e9cd3001-6b17-4683-a08d-a742ae64f676"
      },
      "source": [
        "clamis_df.describe()"
      ],
      "execution_count": null,
      "outputs": [
        {
          "output_type": "execute_result",
          "data": {
            "text/html": [
              "<div>\n",
              "<style scoped>\n",
              "    .dataframe tbody tr th:only-of-type {\n",
              "        vertical-align: middle;\n",
              "    }\n",
              "\n",
              "    .dataframe tbody tr th {\n",
              "        vertical-align: top;\n",
              "    }\n",
              "\n",
              "    .dataframe thead th {\n",
              "        text-align: right;\n",
              "    }\n",
              "</style>\n",
              "<table border=\"1\" class=\"dataframe\">\n",
              "  <thead>\n",
              "    <tr style=\"text-align: right;\">\n",
              "      <th></th>\n",
              "      <th>frequency</th>\n",
              "    </tr>\n",
              "  </thead>\n",
              "  <tbody>\n",
              "    <tr>\n",
              "      <th>count</th>\n",
              "      <td>10.000000</td>\n",
              "    </tr>\n",
              "    <tr>\n",
              "      <th>mean</th>\n",
              "      <td>10.000000</td>\n",
              "    </tr>\n",
              "    <tr>\n",
              "      <th>std</th>\n",
              "      <td>7.333333</td>\n",
              "    </tr>\n",
              "    <tr>\n",
              "      <th>min</th>\n",
              "      <td>1.000000</td>\n",
              "    </tr>\n",
              "    <tr>\n",
              "      <th>25%</th>\n",
              "      <td>4.250000</td>\n",
              "    </tr>\n",
              "    <tr>\n",
              "      <th>50%</th>\n",
              "      <td>9.500000</td>\n",
              "    </tr>\n",
              "    <tr>\n",
              "      <th>75%</th>\n",
              "      <td>14.000000</td>\n",
              "    </tr>\n",
              "    <tr>\n",
              "      <th>max</th>\n",
              "      <td>21.000000</td>\n",
              "    </tr>\n",
              "  </tbody>\n",
              "</table>\n",
              "</div>"
            ],
            "text/plain": [
              "       frequency\n",
              "count  10.000000\n",
              "mean   10.000000\n",
              "std     7.333333\n",
              "min     1.000000\n",
              "25%     4.250000\n",
              "50%     9.500000\n",
              "75%    14.000000\n",
              "max    21.000000"
            ]
          },
          "metadata": {
            "tags": []
          },
          "execution_count": 89
        }
      ]
    },
    {
      "cell_type": "code",
      "metadata": {
        "id": "F4gxH5mLjesX"
      },
      "source": [
        "claims_list = [243,306,271,396,287,399,466,269,295,330,425,324,228,113,226,176,320,230,404,487,127,74,523,164,366,343,330,436,141,388,293,464,200,392,265,403,372,259,426,262,221,355,324,374,347,261,278,113,135,291,176,342,443,239,302,483,231,292,373,346,93,236,223,371,287,400,314,468,337,308,359,352,273,267,277,184,286,214,351,270,330,238,248,419,330,319,440,427,343,414,291,299,265,318,415,372,238,323,411,494]"
      ],
      "execution_count": null,
      "outputs": []
    },
    {
      "cell_type": "code",
      "metadata": {
        "colab": {
          "base_uri": "https://localhost:8080/"
        },
        "id": "DSRzMSNYJhBF",
        "outputId": "4d6bed8f-9e43-4b2e-b6cd-94cc650f7ea8"
      },
      "source": [
        "frequency,bins= np.histogram(claims_list,bins=10, range=[50,550])\n",
        "print(frequency)\n",
        "print(bins)"
      ],
      "execution_count": null,
      "outputs": [
        {
          "output_type": "stream",
          "text": [
            "[ 2  5  4 14 21 20 14 13  6  1]\n",
            "[ 50. 100. 150. 200. 250. 300. 350. 400. 450. 500. 550.]\n"
          ],
          "name": "stdout"
        }
      ]
    },
    {
      "cell_type": "code",
      "metadata": {
        "colab": {
          "base_uri": "https://localhost:8080/",
          "height": 301
        },
        "id": "qhgMLbOJJhEC",
        "outputId": "971de6a0-f16e-4eea-93f6-199d8de570c9"
      },
      "source": [
        "plt.hist(claims_list, bins=10, range=[50,550])\n",
        "plt.gca().set(title='Frequency Histogram', xlabel='Claims',ylabel= 'Frequency');"
      ],
      "execution_count": null,
      "outputs": [
        {
          "output_type": "display_data",
          "data": {
            "image/png": "[encoded data removed]",
            "text/plain": [
              "<Figure size 432x288 with 1 Axes>"
            ]
          },
          "metadata": {
            "tags": []
          }
        }
      ]
    },
    {
      "cell_type": "markdown",
      "metadata": {
        "id": "5BC5Yp-OPwwI"
      },
      "source": [
        "##Measures of Tendency"
      ]
    },
    {
      "cell_type": "markdown",
      "metadata": {
        "id": "t85gWeJdP6d_"
      },
      "source": [
        "###Mean"
      ]
    },
    {
      "cell_type": "code",
      "metadata": {
        "id": "zC_OT874P0mo"
      },
      "source": [
        "no_of_children = np.array([2,3,2,2,2,0,0,1,1,4,3,2,8,5,6,7,4,15,2,2])"
      ],
      "execution_count": null,
      "outputs": []
    },
    {
      "cell_type": "code",
      "metadata": {
        "colab": {
          "base_uri": "https://localhost:8080/"
        },
        "id": "Igh-zaiPPrBp",
        "outputId": "d095374a-fb2e-47df-9ca0-73064dd445d8"
      },
      "source": [
        "no_of_children"
      ],
      "execution_count": null,
      "outputs": [
        {
          "output_type": "execute_result",
          "data": {
            "text/plain": [
              "array([ 2,  3,  2,  2,  2,  0,  0,  1,  1,  4,  3,  2,  8,  5,  6,  7,  4,\n",
              "       15,  2,  2])"
            ]
          },
          "metadata": {
            "tags": []
          },
          "execution_count": 94
        }
      ]
    },
    {
      "cell_type": "code",
      "metadata": {
        "colab": {
          "base_uri": "https://localhost:8080/"
        },
        "id": "7k84mmQOQ8FH",
        "outputId": "b64ee298-8c77-4286-8b00-db7e3b97ca2d"
      },
      "source": [
        "#Mean number of children\n",
        "\n",
        "#Formula 1\n",
        "sum= np.sum(no_of_children)\n",
        "n = len(no_of_children)\n",
        "mean_value_1 = sum/n\n",
        "print(mean_value_1)"
      ],
      "execution_count": null,
      "outputs": [
        {
          "output_type": "stream",
          "text": [
            "3.55\n"
          ],
          "name": "stdout"
        }
      ]
    },
    {
      "cell_type": "code",
      "metadata": {
        "colab": {
          "base_uri": "https://localhost:8080/"
        },
        "id": "8SsY0RueRXjg",
        "outputId": "dbef4a3c-57e9-45a0-9789-37cdf0d2724e"
      },
      "source": [
        "#Formula 2\n",
        "unique_elements, freq = np.unique(no_of_children,return_counts=True)\n",
        "print(unique_elements)\n",
        "print(freq)"
      ],
      "execution_count": null,
      "outputs": [
        {
          "output_type": "stream",
          "text": [
            "[ 0  1  2  3  4  5  6  7  8 15]\n",
            "[2 2 7 2 2 1 1 1 1 1]\n"
          ],
          "name": "stdout"
        }
      ]
    },
    {
      "cell_type": "code",
      "metadata": {
        "colab": {
          "base_uri": "https://localhost:8080/"
        },
        "id": "ISZnJA6hSU0g",
        "outputId": "59d9f96b-d7de-4671-cb58-cafd4c1ef18e"
      },
      "source": [
        "n =np.sum(freq)\n",
        "mean_value_2 = np.sum(freq * unique_elements)/n\n",
        "print(mean_value_2)"
      ],
      "execution_count": null,
      "outputs": [
        {
          "output_type": "stream",
          "text": [
            "3.55\n"
          ],
          "name": "stdout"
        }
      ]
    },
    {
      "cell_type": "code",
      "metadata": {
        "colab": {
          "base_uri": "https://localhost:8080/"
        },
        "id": "AaqC8OpvS4C8",
        "outputId": "6ac65ff3-8c1d-46ab-f84d-74b95e59db78"
      },
      "source": [
        "#Formula 3 Using NumPy\n",
        "np.mean(no_of_children)"
      ],
      "execution_count": null,
      "outputs": [
        {
          "output_type": "execute_result",
          "data": {
            "text/plain": [
              "3.55"
            ]
          },
          "metadata": {
            "tags": []
          },
          "execution_count": 98
        }
      ]
    },
    {
      "cell_type": "markdown",
      "metadata": {
        "id": "xDcDPQZ_TBl3"
      },
      "source": [
        "###Median"
      ]
    },
    {
      "cell_type": "code",
      "metadata": {
        "id": "xnU8hIkRTEGm"
      },
      "source": [
        "policy_holders = np.array([39,34,26,41,70,34,28])"
      ],
      "execution_count": null,
      "outputs": []
    },
    {
      "cell_type": "code",
      "metadata": {
        "colab": {
          "base_uri": "https://localhost:8080/"
        },
        "id": "coc9CnpPwluR",
        "outputId": "75f308b1-0621-45df-83df-e71069959b79"
      },
      "source": [
        "policy_holders_sort = np.sort(policy_holders)\n",
        "print(policy_holders_sort)"
      ],
      "execution_count": null,
      "outputs": [
        {
          "output_type": "stream",
          "text": [
            "[26 28 34 34 39 41 70]\n"
          ],
          "name": "stdout"
        }
      ]
    },
    {
      "cell_type": "code",
      "metadata": {
        "colab": {
          "base_uri": "https://localhost:8080/"
        },
        "id": "Y9H1l9g_xNEy",
        "outputId": "200f64be-0203-44e5-dafb-1ac025fa6fdb"
      },
      "source": [
        "#step 2 Check Odd or even\n",
        "n= len(policy_holders_sort)\n",
        "print(n) #odd"
      ],
      "execution_count": null,
      "outputs": [
        {
          "output_type": "stream",
          "text": [
            "7\n"
          ],
          "name": "stdout"
        }
      ]
    },
    {
      "cell_type": "code",
      "metadata": {
        "colab": {
          "base_uri": "https://localhost:8080/"
        },
        "id": "q1dKZoOFxaHP",
        "outputId": "e9f2e8a9-fdac-4171-ab63-aae9c80e3bb4"
      },
      "source": [
        "#step 3 find (n+1)/2 th element\n",
        "median_position = ((n+1)/2)\n",
        "print(median_position)"
      ],
      "execution_count": null,
      "outputs": [
        {
          "output_type": "stream",
          "text": [
            "4.0\n"
          ],
          "name": "stdout"
        }
      ]
    },
    {
      "cell_type": "code",
      "metadata": {
        "colab": {
          "base_uri": "https://localhost:8080/"
        },
        "id": "ocErmIFHyBrg",
        "outputId": "186d0f10-0830-40ab-c414-664847053cc2"
      },
      "source": [
        "median = policy_holders_sort[int(median_position)-1]\n",
        "median"
      ],
      "execution_count": null,
      "outputs": [
        {
          "output_type": "execute_result",
          "data": {
            "text/plain": [
              "34"
            ]
          },
          "metadata": {
            "tags": []
          },
          "execution_count": 103
        }
      ]
    },
    {
      "cell_type": "code",
      "metadata": {
        "colab": {
          "base_uri": "https://localhost:8080/"
        },
        "id": "Hu2qat9q0XzW",
        "outputId": "33568391-f125-43f5-c8e5-f3b1140f7061"
      },
      "source": [
        "#numpy \\m/\n",
        "np.median(policy_holders)"
      ],
      "execution_count": null,
      "outputs": [
        {
          "output_type": "execute_result",
          "data": {
            "text/plain": [
              "34.0"
            ]
          },
          "metadata": {
            "tags": []
          },
          "execution_count": 104
        }
      ]
    },
    {
      "cell_type": "markdown",
      "metadata": {
        "id": "H74UjBzA0mpT"
      },
      "source": [
        "### Part ii"
      ]
    },
    {
      "cell_type": "code",
      "metadata": {
        "colab": {
          "base_uri": "https://localhost:8080/"
        },
        "id": "NG58JcAN0pCT",
        "outputId": "01f59ee3-4181-4278-f718-c29879642364"
      },
      "source": [
        "#Another policy holder aged 41 year is added to the portfolio\n",
        "policy_holders = np.append(policy_holders,41)\n",
        "print(policy_holders)"
      ],
      "execution_count": null,
      "outputs": [
        {
          "output_type": "stream",
          "text": [
            "[39 34 26 41 70 34 28 41]\n"
          ],
          "name": "stdout"
        }
      ]
    },
    {
      "cell_type": "code",
      "metadata": {
        "colab": {
          "base_uri": "https://localhost:8080/"
        },
        "id": "_f_g424A0pG_",
        "outputId": "89856544-688d-440e-99ea-7139c46fe014"
      },
      "source": [
        "policy_holders_sort = np.sort(policy_holders)\n",
        "print(policy_holders_sort)"
      ],
      "execution_count": null,
      "outputs": [
        {
          "output_type": "stream",
          "text": [
            "[26 28 34 34 39 41 41 70]\n"
          ],
          "name": "stdout"
        }
      ]
    },
    {
      "cell_type": "code",
      "metadata": {
        "colab": {
          "base_uri": "https://localhost:8080/"
        },
        "id": "iwOSa_m01sDf",
        "outputId": "0acb0927-623e-453c-8c6f-db21e3065e50"
      },
      "source": [
        "# calulate median, first check odd or even\n",
        "n = len(policy_holders_sort)\n",
        "print(n)"
      ],
      "execution_count": null,
      "outputs": [
        {
          "output_type": "stream",
          "text": [
            "8\n"
          ],
          "name": "stdout"
        }
      ]
    },
    {
      "cell_type": "code",
      "metadata": {
        "id": "yuFselvD2d2j"
      },
      "source": [
        "#even so calulate mean of two middle element\n",
        "first_median_position = n/2\n",
        "second_median_position =(n/2)+1"
      ],
      "execution_count": null,
      "outputs": []
    },
    {
      "cell_type": "code",
      "metadata": {
        "colab": {
          "base_uri": "https://localhost:8080/"
        },
        "id": "F3LDAxtQ3_q4",
        "outputId": "a667b77b-80a5-4f62-fb69-595b361e82b4"
      },
      "source": [
        "median_point_1 = policy_holders_sort[int(first_median_position)-1]\n",
        "median_point_2 = policy_holders_sort[int(second_median_position)-1]\n",
        "median = (median_point_1 + median_point_2)/2\n",
        "median"
      ],
      "execution_count": null,
      "outputs": [
        {
          "output_type": "execute_result",
          "data": {
            "text/plain": [
              "36.5"
            ]
          },
          "metadata": {
            "tags": []
          },
          "execution_count": 109
        }
      ]
    },
    {
      "cell_type": "code",
      "metadata": {
        "colab": {
          "base_uri": "https://localhost:8080/"
        },
        "id": "hD7hl1JQ4po4",
        "outputId": "85c9c068-0c2e-481f-f7ef-e2f31facf9da"
      },
      "source": [
        "#numpy \\m/\n",
        "np.median(policy_holders)"
      ],
      "execution_count": null,
      "outputs": [
        {
          "output_type": "execute_result",
          "data": {
            "text/plain": [
              "36.5"
            ]
          },
          "metadata": {
            "tags": []
          },
          "execution_count": 110
        }
      ]
    },
    {
      "cell_type": "markdown",
      "metadata": {
        "id": "gxjBJDw36FtM"
      },
      "source": [
        "###Mode"
      ]
    },
    {
      "cell_type": "markdown",
      "metadata": {
        "id": "WlOn38ib7fF1"
      },
      "source": [
        "**The number of children under 16 years in a sample of 20 families :**\n",
        "\n",
        "[2 , 3 , 2 , 2 , 2 , 0 , 0 , 1 , 1, 4, 3, 2, 8, 5, 6, 7 , 4, 15 , 2, 2]\n",
        "\n",
        "What is the mode of this data?"
      ]
    },
    {
      "cell_type": "code",
      "metadata": {
        "id": "jVCjq1ujCrip"
      },
      "source": [
        "no_of_children = np.array([2 , 3 , 2 , 2 , 2 , 0 , 0 , 1 , 1, 4, 3, 2, 8, 5, 6, 7 , 4, 15 , 2, 2])"
      ],
      "execution_count": null,
      "outputs": []
    },
    {
      "cell_type": "code",
      "metadata": {
        "colab": {
          "base_uri": "https://localhost:8080/"
        },
        "id": "N1PFNjHE6Ius",
        "outputId": "6795870f-b80c-4bcf-f44a-a50d4dc04851"
      },
      "source": [
        "unique_elements,freq = np.unique(no_of_children,return_counts=True)\n",
        "print(unique_elements)\n",
        "print(freq)"
      ],
      "execution_count": null,
      "outputs": [
        {
          "output_type": "stream",
          "text": [
            "[ 0  1  2  3  4  5  6  7  8 15]\n",
            "[2 2 7 2 2 1 1 1 1 1]\n"
          ],
          "name": "stdout"
        }
      ]
    },
    {
      "cell_type": "code",
      "metadata": {
        "colab": {
          "base_uri": "https://localhost:8080/"
        },
        "id": "77BKVmpX9Fwy",
        "outputId": "00f89cc7-0724-42e4-bd97-f823a320b84f"
      },
      "source": [
        "max_freq = np.max(freq)\n",
        "mode_index = np.where(freq == max_freq)\n",
        "mode = no_of_children[mode_index]\n",
        "print(mode)"
      ],
      "execution_count": null,
      "outputs": [
        {
          "output_type": "stream",
          "text": [
            "[2]\n"
          ],
          "name": "stdout"
        }
      ]
    },
    {
      "cell_type": "code",
      "metadata": {
        "colab": {
          "base_uri": "https://localhost:8080/"
        },
        "id": "BhQTbKuY-Msn",
        "outputId": "a94366ac-e75c-463d-8d0c-a1b8cc6dd668"
      },
      "source": [
        "#Another Method\n",
        "import statistics\n",
        "from statistics import mode\n",
        "print(mode(no_of_children))"
      ],
      "execution_count": null,
      "outputs": [
        {
          "output_type": "stream",
          "text": [
            "2\n"
          ],
          "name": "stdout"
        }
      ]
    },
    {
      "cell_type": "code",
      "metadata": {
        "colab": {
          "base_uri": "https://localhost:8080/"
        },
        "id": "f-q12OMB9sAO",
        "outputId": "3266d47b-3a16-4312-ba15-b90f467786cf"
      },
      "source": [
        "#More than two modes\n",
        "two_mode = np.array([5,5,5,5,2,2,2,2,4])\n",
        "unique_elements, freq = np.unique(two_mode, return_counts=True)\n",
        "print(unique_elements)\n",
        "print(freq)"
      ],
      "execution_count": null,
      "outputs": [
        {
          "output_type": "stream",
          "text": [
            "[2 4 5]\n",
            "[4 1 4]\n"
          ],
          "name": "stdout"
        }
      ]
    },
    {
      "cell_type": "markdown",
      "metadata": {
        "id": "qdU3va7XAUiB"
      },
      "source": [
        "##Measures of spread"
      ]
    },
    {
      "cell_type": "code",
      "metadata": {
        "id": "FyiKQNov_IJ1"
      },
      "source": [
        "path ='/content/drive/MyDrive/Almabetter/Python/Week 3/Data wrangling assg data/phone_data.csv'"
      ],
      "execution_count": 121,
      "outputs": []
    },
    {
      "cell_type": "code",
      "metadata": {
        "id": "Qq91p_ToNoBQ"
      },
      "source": [
        "phone_data= pd.read_csv(path)"
      ],
      "execution_count": 124,
      "outputs": []
    },
    {
      "cell_type": "code",
      "metadata": {
        "colab": {
          "base_uri": "https://localhost:8080/",
          "height": 203
        },
        "id": "OgYU0OEeNxei",
        "outputId": "c79ac614-5334-4abd-bdcc-e1c42d53bdbc"
      },
      "source": [
        "phone_data.head()"
      ],
      "execution_count": 126,
      "outputs": [
        {
          "output_type": "execute_result",
          "data": {
            "text/html": [
              "<div>\n",
              "<style scoped>\n",
              "    .dataframe tbody tr th:only-of-type {\n",
              "        vertical-align: middle;\n",
              "    }\n",
              "\n",
              "    .dataframe tbody tr th {\n",
              "        vertical-align: top;\n",
              "    }\n",
              "\n",
              "    .dataframe thead th {\n",
              "        text-align: right;\n",
              "    }\n",
              "</style>\n",
              "<table border=\"1\" class=\"dataframe\">\n",
              "  <thead>\n",
              "    <tr style=\"text-align: right;\">\n",
              "      <th></th>\n",
              "      <th>index</th>\n",
              "      <th>date</th>\n",
              "      <th>duration</th>\n",
              "      <th>item</th>\n",
              "      <th>month</th>\n",
              "      <th>network</th>\n",
              "      <th>network_type</th>\n",
              "    </tr>\n",
              "  </thead>\n",
              "  <tbody>\n",
              "    <tr>\n",
              "      <th>0</th>\n",
              "      <td>0</td>\n",
              "      <td>15/10/14 06:58</td>\n",
              "      <td>34.429</td>\n",
              "      <td>data</td>\n",
              "      <td>2014-11</td>\n",
              "      <td>data</td>\n",
              "      <td>data</td>\n",
              "    </tr>\n",
              "    <tr>\n",
              "      <th>1</th>\n",
              "      <td>1</td>\n",
              "      <td>15/10/14 06:58</td>\n",
              "      <td>13.000</td>\n",
              "      <td>call</td>\n",
              "      <td>2014-11</td>\n",
              "      <td>Vodafone</td>\n",
              "      <td>mobile</td>\n",
              "    </tr>\n",
              "    <tr>\n",
              "      <th>2</th>\n",
              "      <td>2</td>\n",
              "      <td>15/10/14 14:46</td>\n",
              "      <td>23.000</td>\n",
              "      <td>call</td>\n",
              "      <td>2014-11</td>\n",
              "      <td>Meteor</td>\n",
              "      <td>mobile</td>\n",
              "    </tr>\n",
              "    <tr>\n",
              "      <th>3</th>\n",
              "      <td>3</td>\n",
              "      <td>15/10/14 14:48</td>\n",
              "      <td>4.000</td>\n",
              "      <td>call</td>\n",
              "      <td>2014-11</td>\n",
              "      <td>Tesco</td>\n",
              "      <td>mobile</td>\n",
              "    </tr>\n",
              "    <tr>\n",
              "      <th>4</th>\n",
              "      <td>4</td>\n",
              "      <td>15/10/14 17:27</td>\n",
              "      <td>4.000</td>\n",
              "      <td>call</td>\n",
              "      <td>2014-11</td>\n",
              "      <td>Tesco</td>\n",
              "      <td>mobile</td>\n",
              "    </tr>\n",
              "  </tbody>\n",
              "</table>\n",
              "</div>"
            ],
            "text/plain": [
              "   index            date  duration  item    month   network network_type\n",
              "0      0  15/10/14 06:58    34.429  data  2014-11      data         data\n",
              "1      1  15/10/14 06:58    13.000  call  2014-11  Vodafone       mobile\n",
              "2      2  15/10/14 14:46    23.000  call  2014-11    Meteor       mobile\n",
              "3      3  15/10/14 14:48     4.000  call  2014-11     Tesco       mobile\n",
              "4      4  15/10/14 17:27     4.000  call  2014-11     Tesco       mobile"
            ]
          },
          "metadata": {
            "tags": []
          },
          "execution_count": 126
        }
      ]
    },
    {
      "cell_type": "code",
      "metadata": {
        "colab": {
          "base_uri": "https://localhost:8080/"
        },
        "id": "FyPwfgr4OF_T",
        "outputId": "b36b89a3-1fe7-4156-d3e3-ca0d4822957f"
      },
      "source": [
        "phone_data.shape"
      ],
      "execution_count": 127,
      "outputs": [
        {
          "output_type": "execute_result",
          "data": {
            "text/plain": [
              "(830, 7)"
            ]
          },
          "metadata": {
            "tags": []
          },
          "execution_count": 127
        }
      ]
    },
    {
      "cell_type": "code",
      "metadata": {
        "colab": {
          "base_uri": "https://localhost:8080/"
        },
        "id": "09_DjUUFOIjw",
        "outputId": "5b1d7a10-53a7-47af-a63b-938fbd36c74b"
      },
      "source": [
        "phone_data.info()"
      ],
      "execution_count": 128,
      "outputs": [
        {
          "output_type": "stream",
          "text": [
            "<class 'pandas.core.frame.DataFrame'>\n",
            "RangeIndex: 830 entries, 0 to 829\n",
            "Data columns (total 7 columns):\n",
            " #   Column        Non-Null Count  Dtype  \n",
            "---  ------        --------------  -----  \n",
            " 0   index         830 non-null    int64  \n",
            " 1   date          830 non-null    object \n",
            " 2   duration      830 non-null    float64\n",
            " 3   item          830 non-null    object \n",
            " 4   month         830 non-null    object \n",
            " 5   network       830 non-null    object \n",
            " 6   network_type  830 non-null    object \n",
            "dtypes: float64(1), int64(1), object(5)\n",
            "memory usage: 45.5+ KB\n"
          ],
          "name": "stdout"
        }
      ]
    },
    {
      "cell_type": "code",
      "metadata": {
        "colab": {
          "base_uri": "https://localhost:8080/",
          "height": 295
        },
        "id": "b51PRuy9OSNI",
        "outputId": "71f293c8-6729-4777-971a-e88256b23ee6"
      },
      "source": [
        "phone_data.describe()"
      ],
      "execution_count": 129,
      "outputs": [
        {
          "output_type": "execute_result",
          "data": {
            "text/html": [
              "<div>\n",
              "<style scoped>\n",
              "    .dataframe tbody tr th:only-of-type {\n",
              "        vertical-align: middle;\n",
              "    }\n",
              "\n",
              "    .dataframe tbody tr th {\n",
              "        vertical-align: top;\n",
              "    }\n",
              "\n",
              "    .dataframe thead th {\n",
              "        text-align: right;\n",
              "    }\n",
              "</style>\n",
              "<table border=\"1\" class=\"dataframe\">\n",
              "  <thead>\n",
              "    <tr style=\"text-align: right;\">\n",
              "      <th></th>\n",
              "      <th>index</th>\n",
              "      <th>duration</th>\n",
              "    </tr>\n",
              "  </thead>\n",
              "  <tbody>\n",
              "    <tr>\n",
              "      <th>count</th>\n",
              "      <td>830.000000</td>\n",
              "      <td>830.000000</td>\n",
              "    </tr>\n",
              "    <tr>\n",
              "      <th>mean</th>\n",
              "      <td>414.500000</td>\n",
              "      <td>117.804036</td>\n",
              "    </tr>\n",
              "    <tr>\n",
              "      <th>std</th>\n",
              "      <td>239.744656</td>\n",
              "      <td>444.129560</td>\n",
              "    </tr>\n",
              "    <tr>\n",
              "      <th>min</th>\n",
              "      <td>0.000000</td>\n",
              "      <td>1.000000</td>\n",
              "    </tr>\n",
              "    <tr>\n",
              "      <th>25%</th>\n",
              "      <td>207.250000</td>\n",
              "      <td>1.000000</td>\n",
              "    </tr>\n",
              "    <tr>\n",
              "      <th>50%</th>\n",
              "      <td>414.500000</td>\n",
              "      <td>24.500000</td>\n",
              "    </tr>\n",
              "    <tr>\n",
              "      <th>75%</th>\n",
              "      <td>621.750000</td>\n",
              "      <td>55.000000</td>\n",
              "    </tr>\n",
              "    <tr>\n",
              "      <th>max</th>\n",
              "      <td>829.000000</td>\n",
              "      <td>10528.000000</td>\n",
              "    </tr>\n",
              "  </tbody>\n",
              "</table>\n",
              "</div>"
            ],
            "text/plain": [
              "            index      duration\n",
              "count  830.000000    830.000000\n",
              "mean   414.500000    117.804036\n",
              "std    239.744656    444.129560\n",
              "min      0.000000      1.000000\n",
              "25%    207.250000      1.000000\n",
              "50%    414.500000     24.500000\n",
              "75%    621.750000     55.000000\n",
              "max    829.000000  10528.000000"
            ]
          },
          "metadata": {
            "tags": []
          },
          "execution_count": 129
        }
      ]
    },
    {
      "cell_type": "code",
      "metadata": {
        "colab": {
          "base_uri": "https://localhost:8080/"
        },
        "id": "iaAZrl8rPSr5",
        "outputId": "3ec6fb0b-0c1b-49d4-e4ea-5de40bf4fc8c"
      },
      "source": [
        "#calculate variance\n",
        "print(\"Variance is\", np.var(phone_data['duration']))\n",
        "print(\"Standard deviation is\", np.std(phone_data['duration']))"
      ],
      "execution_count": 133,
      "outputs": [
        {
          "output_type": "stream",
          "text": [
            "Variance is 197013.4143766616\n",
            "Standard deviation is 443.86193165967904\n"
          ],
          "name": "stdout"
        }
      ]
    },
    {
      "cell_type": "code",
      "metadata": {
        "colab": {
          "base_uri": "https://localhost:8080/"
        },
        "id": "kAk0VoweP_E6",
        "outputId": "bace5f0c-2ee6-4d9c-df35-48645389e203"
      },
      "source": [
        "np.mean(phone_data['duration'])"
      ],
      "execution_count": 134,
      "outputs": [
        {
          "output_type": "execute_result",
          "data": {
            "text/plain": [
              "117.80403614457829"
            ]
          },
          "metadata": {
            "tags": []
          },
          "execution_count": 134
        }
      ]
    },
    {
      "cell_type": "code",
      "metadata": {
        "colab": {
          "base_uri": "https://localhost:8080/"
        },
        "id": "6dtvm1raQJ-w",
        "outputId": "3e6f30f4-49cd-4d19-9912-506cb1e4de3f"
      },
      "source": [
        "np.median(phone_data['duration'])"
      ],
      "execution_count": 136,
      "outputs": [
        {
          "output_type": "execute_result",
          "data": {
            "text/plain": [
              "24.5"
            ]
          },
          "metadata": {
            "tags": []
          },
          "execution_count": 136
        }
      ]
    },
    {
      "cell_type": "code",
      "metadata": {
        "colab": {
          "base_uri": "https://localhost:8080/"
        },
        "id": "M0Mz-ulQQVET",
        "outputId": "a4521d25-13d8-4329-df09-91de54cd67a1"
      },
      "source": [
        "mode(phone_data['duration'])"
      ],
      "execution_count": 138,
      "outputs": [
        {
          "output_type": "execute_result",
          "data": {
            "text/plain": [
              "1.0"
            ]
          },
          "metadata": {
            "tags": []
          },
          "execution_count": 138
        }
      ]
    },
    {
      "cell_type": "markdown",
      "metadata": {
        "id": "VRefWZrjRseh"
      },
      "source": [
        "###Range"
      ]
    },
    {
      "cell_type": "code",
      "metadata": {
        "colab": {
          "base_uri": "https://localhost:8080/"
        },
        "id": "PzGnlvLmQqsA",
        "outputId": "a2bf19a5-367c-4c59-c46a-9bd7b567fe39"
      },
      "source": [
        "range = phone_data['duration'].max() -phone_data['duration'].min()\n",
        "print(range)"
      ],
      "execution_count": 145,
      "outputs": [
        {
          "output_type": "stream",
          "text": [
            "10527.0\n"
          ],
          "name": "stdout"
        }
      ]
    },
    {
      "cell_type": "code",
      "metadata": {
        "colab": {
          "base_uri": "https://localhost:8080/"
        },
        "id": "BOnTK2PlRFlu",
        "outputId": "332a254f-2aed-4943-fc1d-068ae727ee32"
      },
      "source": [
        " phone_data['duration'].max()"
      ],
      "execution_count": 146,
      "outputs": [
        {
          "output_type": "execute_result",
          "data": {
            "text/plain": [
              "10528.0"
            ]
          },
          "metadata": {
            "tags": []
          },
          "execution_count": 146
        }
      ]
    },
    {
      "cell_type": "code",
      "metadata": {
        "colab": {
          "base_uri": "https://localhost:8080/"
        },
        "id": "3yybHceOSOTO",
        "outputId": "11e823aa-a21e-44e7-f58d-0c28699876e5"
      },
      "source": [
        "phone_data['duration'].min()"
      ],
      "execution_count": 147,
      "outputs": [
        {
          "output_type": "execute_result",
          "data": {
            "text/plain": [
              "1.0"
            ]
          },
          "metadata": {
            "tags": []
          },
          "execution_count": 147
        }
      ]
    },
    {
      "cell_type": "markdown",
      "metadata": {
        "id": "E2a7b7JuST8n"
      },
      "source": [
        "###Interquartile Range"
      ]
    },
    {
      "cell_type": "code",
      "metadata": {
        "colab": {
          "base_uri": "https://localhost:8080/"
        },
        "id": "jp1CqjUZSY9-",
        "outputId": "0a5132b7-6d33-492e-9e7d-83104cebd306"
      },
      "source": [
        "#Percentiles\n",
        "percentile_1 = np.percentile(phone_data['duration'],25)\n",
        "print(percentile_1)\n",
        "percentile_2 = np.percentile(phone_data['duration'],50)\n",
        "print(percentile_2)\n",
        "percentile_3 = np.percentile(phone_data['duration'],75)\n",
        "print(percentile_3)"
      ],
      "execution_count": 159,
      "outputs": [
        {
          "output_type": "stream",
          "text": [
            "1.0\n",
            "24.5\n",
            "55.0\n"
          ],
          "name": "stdout"
        }
      ]
    },
    {
      "cell_type": "code",
      "metadata": {
        "colab": {
          "base_uri": "https://localhost:8080/"
        },
        "id": "0QSe9465Tr5p",
        "outputId": "5ceb1514-15a7-4378-9a59-21edbd0dcf84"
      },
      "source": [
        "print(np.median([phone_data['duration']]))"
      ],
      "execution_count": 160,
      "outputs": [
        {
          "output_type": "stream",
          "text": [
            "24.5\n"
          ],
          "name": "stdout"
        }
      ]
    },
    {
      "cell_type": "code",
      "metadata": {
        "id": "Ur8QxCDyVa6o"
      },
      "source": [
        "#IQ or Interquartile Range\n",
        "IQ_range = percentile_3 - percentile_1\n"
      ],
      "execution_count": 161,
      "outputs": []
    },
    {
      "cell_type": "code",
      "metadata": {
        "colab": {
          "base_uri": "https://localhost:8080/"
        },
        "id": "WStNDffKVn_U",
        "outputId": "f14dd3cc-d215-4059-c83e-e5c892e56081"
      },
      "source": [
        "IQ_range"
      ],
      "execution_count": 162,
      "outputs": [
        {
          "output_type": "execute_result",
          "data": {
            "text/plain": [
              "54.0"
            ]
          },
          "metadata": {
            "tags": []
          },
          "execution_count": 162
        }
      ]
    },
    {
      "cell_type": "code",
      "metadata": {
        "id": "GczytnjgWjRx"
      },
      "source": [
        "lst =[-10,1,2,3,4,5,6,7,8,9,20]"
      ],
      "execution_count": 163,
      "outputs": []
    },
    {
      "cell_type": "code",
      "metadata": {
        "colab": {
          "base_uri": "https://localhost:8080/",
          "height": 323
        },
        "id": "3lYRwoqdWrSw",
        "outputId": "cebce8ee-636b-4e26-bec8-e3e1f7087c4b"
      },
      "source": [
        "ax = sns.boxplot(lst)"
      ],
      "execution_count": 165,
      "outputs": [
        {
          "output_type": "stream",
          "text": [
            "/usr/local/lib/python3.7/dist-packages/seaborn/_decorators.py:43: FutureWarning: Pass the following variable as a keyword arg: x. From version 0.12, the only valid positional argument will be `data`, and passing other arguments without an explicit keyword will result in an error or misinterpretation.\n",
            "  FutureWarning\n"
          ],
          "name": "stderr"
        },
        {
          "output_type": "display_data",
          "data": {
            "image/png": "[encoded data removed]",
            "text/plain": [
              "<Figure size 432x288 with 1 Axes>"
            ]
          },
          "metadata": {
            "tags": []
          }
        }
      ]
    },
    {
      "cell_type": "markdown",
      "metadata": {
        "id": "riJzUKzdYQHC"
      },
      "source": [
        "###Measures of Symmetry"
      ]
    },
    {
      "cell_type": "code",
      "metadata": {
        "colab": {
          "base_uri": "https://localhost:8080/",
          "height": 358
        },
        "id": "OYz3fAB4YVk4",
        "outputId": "9592690f-e3c7-4d8b-b22d-ed054e823195"
      },
      "source": [
        "sns.distplot(phone_data['duration'],hist = True)"
      ],
      "execution_count": 168,
      "outputs": [
        {
          "output_type": "stream",
          "text": [
            "/usr/local/lib/python3.7/dist-packages/seaborn/distributions.py:2557: FutureWarning: `distplot` is a deprecated function and will be removed in a future version. Please adapt your code to use either `displot` (a figure-level function with similar flexibility) or `histplot` (an axes-level function for histograms).\n",
            "  warnings.warn(msg, FutureWarning)\n"
          ],
          "name": "stderr"
        },
        {
          "output_type": "execute_result",
          "data": {
            "text/plain": [
              "<matplotlib.axes._subplots.AxesSubplot at 0x7f710af84690>"
            ]
          },
          "metadata": {
            "tags": []
          },
          "execution_count": 168
        },
        {
          "output_type": "display_data",
          "data": {
            "image/png": "[encoded data removed]",
            "text/plain": [
              "<Figure size 432x288 with 1 Axes>"
            ]
          },
          "metadata": {
            "tags": []
          }
        }
      ]
    },
    {
      "cell_type": "code",
      "metadata": {
        "id": "QD7cHp8xYoG_"
      },
      "source": [
        "sns.boxplot(phone_data['duration'])"
      ],
      "execution_count": null,
      "outputs": []
    }
  ]
}